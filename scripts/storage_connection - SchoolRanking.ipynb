{
 "cells": [
  {
   "cell_type": "code",
   "execution_count": 1,
   "id": "4da4755f-244f-49d0-a2eb-b075497e1042",
   "metadata": {},
   "outputs": [
    {
     "name": "stdout",
     "output_type": "stream",
     "text": [
      "Requirement already satisfied: azure-storage-blob in c:\\users\\jrami\\anaconda3\\lib\\site-packages (12.19.1)\n",
      "Requirement already satisfied: azure-core<2.0.0,>=1.28.0 in c:\\users\\jrami\\anaconda3\\lib\\site-packages (from azure-storage-blob) (1.30.1)\n",
      "Requirement already satisfied: cryptography>=2.1.4 in c:\\users\\jrami\\anaconda3\\lib\\site-packages (from azure-storage-blob) (42.0.2)\n",
      "Requirement already satisfied: typing-extensions>=4.3.0 in c:\\users\\jrami\\appdata\\roaming\\python\\python311\\site-packages (from azure-storage-blob) (4.11.0)\n",
      "Requirement already satisfied: isodate>=0.6.1 in c:\\users\\jrami\\anaconda3\\lib\\site-packages (from azure-storage-blob) (0.6.1)\n",
      "Requirement already satisfied: requests>=2.21.0 in c:\\users\\jrami\\anaconda3\\lib\\site-packages (from azure-core<2.0.0,>=1.28.0->azure-storage-blob) (2.31.0)\n",
      "Requirement already satisfied: six>=1.11.0 in c:\\users\\jrami\\appdata\\roaming\\python\\python311\\site-packages (from azure-core<2.0.0,>=1.28.0->azure-storage-blob) (1.16.0)\n",
      "Requirement already satisfied: cffi>=1.12 in c:\\users\\jrami\\anaconda3\\lib\\site-packages (from cryptography>=2.1.4->azure-storage-blob) (1.16.0)\n",
      "Requirement already satisfied: pycparser in c:\\users\\jrami\\anaconda3\\lib\\site-packages (from cffi>=1.12->cryptography>=2.1.4->azure-storage-blob) (2.21)\n",
      "Requirement already satisfied: charset-normalizer<4,>=2 in c:\\users\\jrami\\anaconda3\\lib\\site-packages (from requests>=2.21.0->azure-core<2.0.0,>=1.28.0->azure-storage-blob) (2.0.4)\n",
      "Requirement already satisfied: idna<4,>=2.5 in c:\\users\\jrami\\anaconda3\\lib\\site-packages (from requests>=2.21.0->azure-core<2.0.0,>=1.28.0->azure-storage-blob) (3.4)\n",
      "Requirement already satisfied: urllib3<3,>=1.21.1 in c:\\users\\jrami\\anaconda3\\lib\\site-packages (from requests>=2.21.0->azure-core<2.0.0,>=1.28.0->azure-storage-blob) (2.0.7)\n",
      "Requirement already satisfied: certifi>=2017.4.17 in c:\\users\\jrami\\anaconda3\\lib\\site-packages (from requests>=2.21.0->azure-core<2.0.0,>=1.28.0->azure-storage-blob) (2024.2.2)\n",
      "Requirement already satisfied: boto3 in c:\\users\\jrami\\anaconda3\\lib\\site-packages (1.34.88)\n",
      "Requirement already satisfied: botocore<1.35.0,>=1.34.88 in c:\\users\\jrami\\anaconda3\\lib\\site-packages (from boto3) (1.34.88)\n",
      "Requirement already satisfied: jmespath<2.0.0,>=0.7.1 in c:\\users\\jrami\\anaconda3\\lib\\site-packages (from boto3) (1.0.1)\n",
      "Requirement already satisfied: s3transfer<0.11.0,>=0.10.0 in c:\\users\\jrami\\anaconda3\\lib\\site-packages (from boto3) (0.10.1)\n",
      "Requirement already satisfied: python-dateutil<3.0.0,>=2.1 in c:\\users\\jrami\\appdata\\roaming\\python\\python311\\site-packages (from botocore<1.35.0,>=1.34.88->boto3) (2.9.0.post0)\n",
      "Requirement already satisfied: urllib3!=2.2.0,<3,>=1.25.4 in c:\\users\\jrami\\anaconda3\\lib\\site-packages (from botocore<1.35.0,>=1.34.88->boto3) (2.0.7)\n",
      "Requirement already satisfied: six>=1.5 in c:\\users\\jrami\\appdata\\roaming\\python\\python311\\site-packages (from python-dateutil<3.0.0,>=2.1->botocore<1.35.0,>=1.34.88->boto3) (1.16.0)\n",
      "Requirement already satisfied: google-cloud-storage in c:\\users\\jrami\\anaconda3\\lib\\site-packages (2.16.0)\n",
      "Requirement already satisfied: google-auth<3.0dev,>=2.26.1 in c:\\users\\jrami\\anaconda3\\lib\\site-packages (from google-cloud-storage) (2.29.0)\n",
      "Requirement already satisfied: google-api-core<3.0.0dev,>=2.15.0 in c:\\users\\jrami\\anaconda3\\lib\\site-packages (from google-cloud-storage) (2.18.0)\n",
      "Requirement already satisfied: google-cloud-core<3.0dev,>=2.3.0 in c:\\users\\jrami\\anaconda3\\lib\\site-packages (from google-cloud-storage) (2.4.1)\n",
      "Requirement already satisfied: google-resumable-media>=2.6.0 in c:\\users\\jrami\\anaconda3\\lib\\site-packages (from google-cloud-storage) (2.7.0)\n",
      "Requirement already satisfied: requests<3.0.0dev,>=2.18.0 in c:\\users\\jrami\\anaconda3\\lib\\site-packages (from google-cloud-storage) (2.31.0)\n",
      "Requirement already satisfied: google-crc32c<2.0dev,>=1.0 in c:\\users\\jrami\\anaconda3\\lib\\site-packages (from google-cloud-storage) (1.5.0)\n",
      "Requirement already satisfied: googleapis-common-protos<2.0.dev0,>=1.56.2 in c:\\users\\jrami\\anaconda3\\lib\\site-packages (from google-api-core<3.0.0dev,>=2.15.0->google-cloud-storage) (1.63.0)\n",
      "Requirement already satisfied: protobuf!=3.20.0,!=3.20.1,!=4.21.0,!=4.21.1,!=4.21.2,!=4.21.3,!=4.21.4,!=4.21.5,<5.0.0.dev0,>=3.19.5 in c:\\users\\jrami\\anaconda3\\lib\\site-packages (from google-api-core<3.0.0dev,>=2.15.0->google-cloud-storage) (3.20.3)\n",
      "Requirement already satisfied: proto-plus<2.0.0dev,>=1.22.3 in c:\\users\\jrami\\anaconda3\\lib\\site-packages (from google-api-core<3.0.0dev,>=2.15.0->google-cloud-storage) (1.23.0)\n",
      "Requirement already satisfied: cachetools<6.0,>=2.0.0 in c:\\users\\jrami\\anaconda3\\lib\\site-packages (from google-auth<3.0dev,>=2.26.1->google-cloud-storage) (4.2.2)\n",
      "Requirement already satisfied: pyasn1-modules>=0.2.1 in c:\\users\\jrami\\anaconda3\\lib\\site-packages (from google-auth<3.0dev,>=2.26.1->google-cloud-storage) (0.2.8)\n",
      "Requirement already satisfied: rsa<5,>=3.1.4 in c:\\users\\jrami\\anaconda3\\lib\\site-packages (from google-auth<3.0dev,>=2.26.1->google-cloud-storage) (4.9)\n",
      "Requirement already satisfied: charset-normalizer<4,>=2 in c:\\users\\jrami\\anaconda3\\lib\\site-packages (from requests<3.0.0dev,>=2.18.0->google-cloud-storage) (2.0.4)\n",
      "Requirement already satisfied: idna<4,>=2.5 in c:\\users\\jrami\\anaconda3\\lib\\site-packages (from requests<3.0.0dev,>=2.18.0->google-cloud-storage) (3.4)\n",
      "Requirement already satisfied: urllib3<3,>=1.21.1 in c:\\users\\jrami\\anaconda3\\lib\\site-packages (from requests<3.0.0dev,>=2.18.0->google-cloud-storage) (2.0.7)\n",
      "Requirement already satisfied: certifi>=2017.4.17 in c:\\users\\jrami\\anaconda3\\lib\\site-packages (from requests<3.0.0dev,>=2.18.0->google-cloud-storage) (2024.2.2)\n",
      "Requirement already satisfied: pyasn1<0.5.0,>=0.4.6 in c:\\users\\jrami\\anaconda3\\lib\\site-packages (from pyasn1-modules>=0.2.1->google-auth<3.0dev,>=2.26.1->google-cloud-storage) (0.4.8)\n"
     ]
    }
   ],
   "source": [
    "!pip install azure-storage-blob\n",
    "!pip install boto3\n",
    "!pip install google-cloud-storage"
   ]
  },
  {
   "cell_type": "code",
   "execution_count": 17,
   "id": "b48d709a",
   "metadata": {
    "tags": []
   },
   "outputs": [],
   "source": [
    "# import Libraries\n",
    "import os\n",
    "import boto3\n",
    "from azure.storage.blob import BlobServiceClient\n",
    "from google.cloud import storage\n",
    "import pandas as pd\n",
    "from io import BytesIO, StringIO\n",
    "import requests\n",
    "from bs4 import BeautifulSoup"
   ]
  },
  {
   "cell_type": "code",
   "execution_count": 18,
   "id": "82087e25",
   "metadata": {
    "tags": []
   },
   "outputs": [],
   "source": [
    "# Google Cloud Storage Functions\n",
    "def gcs_upload_blob(bucket_name, blob_name, data):\n",
    "    storage_client = storage.Client()\n",
    "    bucket = storage_client.bucket(bucket_name)\n",
    "    blob = bucket.blob(blob_name)\n",
    "    blob.upload_from_string(data)\n",
    "    print(f\"Uploaded to Google Cloud Storage: {blob_name}\")\n",
    "\n",
    "def gcs_download_blob(bucket_name, blob_name):\n",
    "    storage_client = storage.Client()\n",
    "    bucket = storage_client.bucket(bucket_name)\n",
    "    blob = bucket.blob(blob_name)\n",
    "    return blob.download_as_string()"
   ]
  },
  {
   "cell_type": "code",
   "execution_count": 19,
   "id": "e3675be9",
   "metadata": {
    "scrolled": true,
    "tags": []
   },
   "outputs": [],
   "source": [
    "file_path = r\"C:\\Users\\jrami\\OneDrive\\Desktop\\Baruch College Classes (MS Program)\\Business Analytics Courses\\CIS 9440 Data Warehousing and Analytics\\Term Project\\Created Dataframe for School Rankings\\SCHOOL_DATA.csv\"\n",
    "df = pd.read_csv(file_path)"
   ]
  },
  {
   "cell_type": "code",
   "execution_count": 20,
   "id": "31a44254",
   "metadata": {
    "tags": []
   },
   "outputs": [],
   "source": [
    "# Google Cloud Storage Configuration\n",
    "BUCKET_NAME = \"housingproject_cis9440\"\n",
    "blob_name = \"SCHOOL_DATA.csv\""
   ]
  },
  {
   "cell_type": "code",
   "execution_count": 24,
   "id": "d4367fc8",
   "metadata": {
    "tags": []
   },
   "outputs": [],
   "source": [
    "# Set the environment variable to the path of your service account key file\n",
    "os.environ[\"GOOGLE_APPLICATION_CREDENTIALS\"] = r\"liquid-evening-419521-f3bbe91c1085.json\"\n"
   ]
  },
  {
   "cell_type": "code",
   "execution_count": 22,
   "id": "9587e5be",
   "metadata": {
    "tags": []
   },
   "outputs": [],
   "source": [
    "# Convert DataFrame to CSV\n",
    "output = StringIO()\n",
    "df.to_csv(output, index=False)\n",
    "data = output.getvalue()\n",
    "output.close()"
   ]
  },
  {
   "cell_type": "code",
   "execution_count": 26,
   "id": "89070cc1",
   "metadata": {
    "tags": []
   },
   "outputs": [
    {
     "name": "stdout",
     "output_type": "stream",
     "text": [
      "Uploaded to Google Cloud Storage: SCHOOL_DATA.csv\n",
      "Uploaded SCHOOL_DATA.csv to Google Cloud Storage in bucket housingproject_cis9440.\n"
     ]
    }
   ],
   "source": [
    "# Upload the CSV data to Google Cloud Storage\n",
    "gcs_upload_blob(BUCKET_NAME, blob_name, data)\n",
    "\n",
    "print(f\"Uploaded {blob_name} to Google Cloud Storage in bucket {BUCKET_NAME}.\")"
   ]
  },
  {
   "cell_type": "code",
   "execution_count": null,
   "id": "628d9558-14da-49a4-82ac-35fe7617083a",
   "metadata": {},
   "outputs": [],
   "source": []
  }
 ],
 "metadata": {
  "kernelspec": {
   "display_name": "Python 3 (ipykernel)",
   "language": "python",
   "name": "python3"
  },
  "language_info": {
   "codemirror_mode": {
    "name": "ipython",
    "version": 3
   },
   "file_extension": ".py",
   "mimetype": "text/x-python",
   "name": "python",
   "nbconvert_exporter": "python",
   "pygments_lexer": "ipython3",
   "version": "3.11.7"
  }
 },
 "nbformat": 4,
 "nbformat_minor": 5
}
